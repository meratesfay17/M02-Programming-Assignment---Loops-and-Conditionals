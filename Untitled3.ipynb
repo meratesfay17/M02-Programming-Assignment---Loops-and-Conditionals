{
 "cells": [
  {
   "cell_type": "markdown",
   "id": "869b7b78",
   "metadata": {},
   "source": [
    "Assign True or False to the variables 'small' and 'green'"
   ]
  },
  {
   "cell_type": "code",
   "execution_count": 13,
   "id": "796f93e4",
   "metadata": {},
   "outputs": [
    {
     "name": "stdout",
     "output_type": "stream",
     "text": [
      "Is the item small? (Enter 'Y' for Yes or 'N' for No): N\n"
     ]
    }
   ],
   "source": [
    "small_input = input(\"Is the item small? (Enter 'Y' for Yes or 'N' for No): \").upper()\n",
    "small = True if small_input == 'Y' else False"
   ]
  },
  {
   "cell_type": "code",
   "execution_count": 14,
   "id": "b7a4b611",
   "metadata": {},
   "outputs": [
    {
     "name": "stdout",
     "output_type": "stream",
     "text": [
      "Is the item green? (Enter 'Y' for Yes or 'N' for No): N\n"
     ]
    }
   ],
   "source": [
    "green_input = input(\"Is the item green? (Enter 'Y' for Yes or 'N' for No): \").upper()\n",
    "green = True if green_input == 'Y' else False"
   ]
  },
  {
   "cell_type": "markdown",
   "id": "697ab545",
   "metadata": {},
   "source": [
    "Write if/else statements to print which items match the choices"
   ]
  },
  {
   "cell_type": "code",
   "execution_count": 15,
   "id": "6d453767",
   "metadata": {},
   "outputs": [
    {
     "name": "stdout",
     "output_type": "stream",
     "text": [
      "The item matches: pumpkin\n"
     ]
    }
   ],
   "source": [
    "if small and green:\n",
    "    print(\"The item matches: pea\")\n",
    "elif small and not green:\n",
    "    print(\"The item matches: cherry\")\n",
    "elif not small and green:\n",
    "    print(\"The item matches: watermelon\")\n",
    "else:\n",
    "    print(\"The item matches: pumpkin\")\n"
   ]
  }
 ],
 "metadata": {
  "kernelspec": {
   "display_name": "Python 3 (ipykernel)",
   "language": "python",
   "name": "python3"
  },
  "language_info": {
   "codemirror_mode": {
    "name": "ipython",
    "version": 3
   },
   "file_extension": ".py",
   "mimetype": "text/x-python",
   "name": "python",
   "nbconvert_exporter": "python",
   "pygments_lexer": "ipython3",
   "version": "3.11.4"
  }
 },
 "nbformat": 4,
 "nbformat_minor": 5
}

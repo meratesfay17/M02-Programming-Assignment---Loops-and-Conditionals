{
 "cells": [
  {
   "cell_type": "markdown",
   "id": "7b09a3de",
   "metadata": {},
   "source": [
    "Define the list"
   ]
  },
  {
   "cell_type": "code",
   "execution_count": 1,
   "id": "c74eff2a",
   "metadata": {},
   "outputs": [],
   "source": [
    "my_list = [3, 2, 1, 0]"
   ]
  },
  {
   "cell_type": "markdown",
   "id": "84925e82",
   "metadata": {},
   "source": [
    "Use a for loop to print the values of the list"
   ]
  },
  {
   "cell_type": "code",
   "execution_count": 3,
   "id": "e40dd189",
   "metadata": {},
   "outputs": [
    {
     "name": "stdout",
     "output_type": "stream",
     "text": [
      "3\n",
      "2\n",
      "1\n",
      "0\n"
     ]
    }
   ],
   "source": [
    "for num in my_list:\n",
    "    print(num)"
   ]
  }
 ],
 "metadata": {
  "kernelspec": {
   "display_name": "Python 3 (ipykernel)",
   "language": "python",
   "name": "python3"
  },
  "language_info": {
   "codemirror_mode": {
    "name": "ipython",
    "version": 3
   },
   "file_extension": ".py",
   "mimetype": "text/x-python",
   "name": "python",
   "nbconvert_exporter": "python",
   "pygments_lexer": "ipython3",
   "version": "3.11.4"
  }
 },
 "nbformat": 4,
 "nbformat_minor": 5
}

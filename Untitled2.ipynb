{
 "cells": [
  {
   "cell_type": "markdown",
   "id": "688e32d2",
   "metadata": {},
   "source": [
    "Take input from the user for the secret number"
   ]
  },
  {
   "cell_type": "code",
   "execution_count": 32,
   "id": "34db0f10",
   "metadata": {},
   "outputs": [
    {
     "name": "stdout",
     "output_type": "stream",
     "text": [
      "Enter the number: 3\n"
     ]
    }
   ],
   "source": [
    "secret = int(input(\"Enter the number: \"))"
   ]
  },
  {
   "cell_type": "markdown",
   "id": "125184ad",
   "metadata": {},
   "source": [
    "Take input from the user for their guess"
   ]
  },
  {
   "cell_type": "code",
   "execution_count": 33,
   "id": "0f46d1a8",
   "metadata": {},
   "outputs": [
    {
     "name": "stdout",
     "output_type": "stream",
     "text": [
      "Enter the number: 4\n"
     ]
    }
   ],
   "source": [
    "guess = int(input(\"Enter the number: \"))"
   ]
  },
  {
   "cell_type": "markdown",
   "id": "aa3b45a2",
   "metadata": {},
   "source": [
    "Conditional tests to check if 'guess' is too low, too high, or just right"
   ]
  },
  {
   "cell_type": "code",
   "execution_count": 37,
   "id": "662ec511",
   "metadata": {},
   "outputs": [
    {
     "name": "stdout",
     "output_type": "stream",
     "text": [
      "too high\n"
     ]
    }
   ],
   "source": [
    "\n",
    "if guess < secret:\n",
    "    print('too low')\n",
    "elif guess > secret:\n",
    "    print('too high')\n",
    "else:\n",
    "    print('just right')\n"
   ]
  }
 ],
 "metadata": {
  "kernelspec": {
   "display_name": "Python 3 (ipykernel)",
   "language": "python",
   "name": "python3"
  },
  "language_info": {
   "codemirror_mode": {
    "name": "ipython",
    "version": 3
   },
   "file_extension": ".py",
   "mimetype": "text/x-python",
   "name": "python",
   "nbconvert_exporter": "python",
   "pygments_lexer": "ipython3",
   "version": "3.11.4"
  }
 },
 "nbformat": 4,
 "nbformat_minor": 5
}
